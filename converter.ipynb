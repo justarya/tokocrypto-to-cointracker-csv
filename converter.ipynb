{
 "cells": [
  {
   "cell_type": "markdown",
   "metadata": {},
   "source": [
    "# Tokocrypto to CoinTracker\n",
    "## Installation"
   ]
  },
  {
   "cell_type": "code",
   "execution_count": 1,
   "metadata": {},
   "outputs": [],
   "source": [
    "import pandas as pd\n",
    "import datetime"
   ]
  },
  {
   "cell_type": "code",
   "execution_count": 2,
   "metadata": {},
   "outputs": [],
   "source": [
    "df_tko = pd.read_excel('./data/tokocrypto.xls')"
   ]
  },
  {
   "cell_type": "markdown",
   "metadata": {},
   "source": [
    "## Example Data Preview"
   ]
  },
  {
   "cell_type": "code",
   "execution_count": 3,
   "metadata": {},
   "outputs": [
    {
     "data": {
      "text/html": [
       "<div>\n",
       "<style scoped>\n",
       "    .dataframe tbody tr th:only-of-type {\n",
       "        vertical-align: middle;\n",
       "    }\n",
       "\n",
       "    .dataframe tbody tr th {\n",
       "        vertical-align: top;\n",
       "    }\n",
       "\n",
       "    .dataframe thead th {\n",
       "        text-align: right;\n",
       "    }\n",
       "</style>\n",
       "<table border=\"1\" class=\"dataframe\">\n",
       "  <thead>\n",
       "    <tr style=\"text-align: right;\">\n",
       "      <th></th>\n",
       "      <th>Time</th>\n",
       "      <th>Pair</th>\n",
       "      <th>Side</th>\n",
       "      <th>Price</th>\n",
       "      <th>Filled</th>\n",
       "      <th>Trading Fees</th>\n",
       "      <th>Total</th>\n",
       "    </tr>\n",
       "  </thead>\n",
       "  <tbody>\n",
       "    <tr>\n",
       "      <th>0</th>\n",
       "      <td>10-30 16:59:18</td>\n",
       "      <td>COTI/USDT</td>\n",
       "      <td>Buy</td>\n",
       "      <td>0.57</td>\n",
       "      <td>31.0</td>\n",
       "      <td>0.031 COTI</td>\n",
       "      <td>17.67 USDT</td>\n",
       "    </tr>\n",
       "    <tr>\n",
       "      <th>1</th>\n",
       "      <td>10-30 12:55:51</td>\n",
       "      <td>USDT/BIDR</td>\n",
       "      <td>Buy</td>\n",
       "      <td>14,176</td>\n",
       "      <td>18.0</td>\n",
       "      <td>0.018 USDT</td>\n",
       "      <td>255,168 BIDR</td>\n",
       "    </tr>\n",
       "    <tr>\n",
       "      <th>2</th>\n",
       "      <td>10-29 21:22:07</td>\n",
       "      <td>TKO/BIDR</td>\n",
       "      <td>Buy</td>\n",
       "      <td>26,960</td>\n",
       "      <td>9.2</td>\n",
       "      <td>0.0092 TKO</td>\n",
       "      <td>248,032 BIDR</td>\n",
       "    </tr>\n",
       "    <tr>\n",
       "      <th>3</th>\n",
       "      <td>10-29 11:04:24</td>\n",
       "      <td>FTM/BIDR</td>\n",
       "      <td>Buy</td>\n",
       "      <td>42,210</td>\n",
       "      <td>11.8</td>\n",
       "      <td>0.0118 FTM</td>\n",
       "      <td>498,078 BIDR</td>\n",
       "    </tr>\n",
       "    <tr>\n",
       "      <th>4</th>\n",
       "      <td>10-28 16:08:14</td>\n",
       "      <td>FTM/BIDR</td>\n",
       "      <td>Buy</td>\n",
       "      <td>47,001</td>\n",
       "      <td>4.3</td>\n",
       "      <td>0.0043 FTM</td>\n",
       "      <td>202,104.3 BIDR</td>\n",
       "    </tr>\n",
       "  </tbody>\n",
       "</table>\n",
       "</div>"
      ],
      "text/plain": [
       "             Time       Pair Side   Price  Filled Trading Fees           Total\n",
       "0  10-30 16:59:18  COTI/USDT  Buy    0.57    31.0   0.031 COTI      17.67 USDT\n",
       "1  10-30 12:55:51  USDT/BIDR  Buy  14,176    18.0   0.018 USDT    255,168 BIDR\n",
       "2  10-29 21:22:07   TKO/BIDR  Buy  26,960     9.2   0.0092 TKO    248,032 BIDR\n",
       "3  10-29 11:04:24   FTM/BIDR  Buy  42,210    11.8   0.0118 FTM    498,078 BIDR\n",
       "4  10-28 16:08:14   FTM/BIDR  Buy  47,001     4.3   0.0043 FTM  202,104.3 BIDR"
      ]
     },
     "execution_count": 3,
     "metadata": {},
     "output_type": "execute_result"
    }
   ],
   "source": [
    "df_tko.head()"
   ]
  },
  {
   "cell_type": "code",
   "execution_count": 4,
   "metadata": {},
   "outputs": [
    {
     "data": {
      "text/plain": [
       "Time             object\n",
       "Pair             object\n",
       "Side             object\n",
       "Price            object\n",
       "Filled          float64\n",
       "Trading Fees     object\n",
       "Total            object\n",
       "dtype: object"
      ]
     },
     "execution_count": 4,
     "metadata": {},
     "output_type": "execute_result"
    }
   ],
   "source": [
    "df_tko.dtypes"
   ]
  },
  {
   "cell_type": "markdown",
   "metadata": {},
   "source": [
    "## Example data final format"
   ]
  },
  {
   "cell_type": "code",
   "execution_count": 5,
   "metadata": {},
   "outputs": [
    {
     "data": {
      "text/html": [
       "<div>\n",
       "<style scoped>\n",
       "    .dataframe tbody tr th:only-of-type {\n",
       "        vertical-align: middle;\n",
       "    }\n",
       "\n",
       "    .dataframe tbody tr th {\n",
       "        vertical-align: top;\n",
       "    }\n",
       "\n",
       "    .dataframe thead th {\n",
       "        text-align: right;\n",
       "    }\n",
       "</style>\n",
       "<table border=\"1\" class=\"dataframe\">\n",
       "  <thead>\n",
       "    <tr style=\"text-align: right;\">\n",
       "      <th></th>\n",
       "      <th>Date</th>\n",
       "      <th>Received Quantity</th>\n",
       "      <th>Received Currency</th>\n",
       "      <th>Sent Quantity</th>\n",
       "      <th>Sent Currency</th>\n",
       "      <th>Fee Amount</th>\n",
       "      <th>Fee Currency</th>\n",
       "      <th>Tag</th>\n",
       "    </tr>\n",
       "  </thead>\n",
       "  <tbody>\n",
       "    <tr>\n",
       "      <th>0</th>\n",
       "      <td>06/14/2017 20:57:35</td>\n",
       "      <td>0.5</td>\n",
       "      <td>BTC</td>\n",
       "      <td>4005.8</td>\n",
       "      <td>USD</td>\n",
       "      <td>0.00001</td>\n",
       "      <td>BTC</td>\n",
       "      <td>NaN</td>\n",
       "    </tr>\n",
       "    <tr>\n",
       "      <th>1</th>\n",
       "      <td>08/19/2017 10:05:15</td>\n",
       "      <td>0.3</td>\n",
       "      <td>BTC</td>\n",
       "      <td>3.0</td>\n",
       "      <td>ETH</td>\n",
       "      <td>NaN</td>\n",
       "      <td>NaN</td>\n",
       "      <td>NaN</td>\n",
       "    </tr>\n",
       "    <tr>\n",
       "      <th>2</th>\n",
       "      <td>08/21/2017 12:00:00</td>\n",
       "      <td>NaN</td>\n",
       "      <td>NaN</td>\n",
       "      <td>3.0</td>\n",
       "      <td>ETH</td>\n",
       "      <td>0.00010</td>\n",
       "      <td>ETH</td>\n",
       "      <td>gift</td>\n",
       "    </tr>\n",
       "    <tr>\n",
       "      <th>3</th>\n",
       "      <td>08/30/2017 12:01:30</td>\n",
       "      <td>3.0</td>\n",
       "      <td>ETH</td>\n",
       "      <td>NaN</td>\n",
       "      <td>NaN</td>\n",
       "      <td>NaN</td>\n",
       "      <td>NaN</td>\n",
       "      <td>mined</td>\n",
       "    </tr>\n",
       "  </tbody>\n",
       "</table>\n",
       "</div>"
      ],
      "text/plain": [
       "                  Date  Received Quantity Received Currency  Sent Quantity  \\\n",
       "0  06/14/2017 20:57:35                0.5               BTC         4005.8   \n",
       "1  08/19/2017 10:05:15                0.3               BTC            3.0   \n",
       "2  08/21/2017 12:00:00                NaN               NaN            3.0   \n",
       "3  08/30/2017 12:01:30                3.0               ETH            NaN   \n",
       "\n",
       "  Sent Currency  Fee Amount Fee Currency    Tag  \n",
       "0           USD     0.00001          BTC    NaN  \n",
       "1           ETH         NaN          NaN    NaN  \n",
       "2           ETH     0.00010          ETH   gift  \n",
       "3           NaN         NaN          NaN  mined  "
      ]
     },
     "execution_count": 5,
     "metadata": {},
     "output_type": "execute_result"
    }
   ],
   "source": [
    "df_ct = pd.read_csv('./data/cointracker.csv')\n",
    "df_ct.head()"
   ]
  },
  {
   "cell_type": "code",
   "execution_count": 6,
   "metadata": {},
   "outputs": [
    {
     "data": {
      "text/plain": [
       "Date                  object\n",
       "Received Quantity    float64\n",
       "Received Currency     object\n",
       "Sent Quantity        float64\n",
       "Sent Currency         object\n",
       "Fee Amount           float64\n",
       "Fee Currency          object\n",
       "Tag                   object\n",
       "dtype: object"
      ]
     },
     "execution_count": 6,
     "metadata": {},
     "output_type": "execute_result"
    }
   ],
   "source": [
    "df_ct.dtypes  "
   ]
  },
  {
   "cell_type": "code",
   "execution_count": 7,
   "metadata": {},
   "outputs": [],
   "source": [
    "df_ct['Date'] = pd.to_datetime(df_ct['Date'])"
   ]
  },
  {
   "cell_type": "markdown",
   "metadata": {},
   "source": [
    "## Converting Tokocrypto CSV to CoinTracker\n",
    "1. Data Cleaning\n",
    "  - Convert time to datatime\n",
    "  - Separate `Pair` (ex: TKO/BIDR)\n",
    "    - -> `Pair From` (ex: BIDR)\n",
    "    - -> `Pair To` (ex: TKO)\n",
    "  - Separate token with its value\n",
    "    - `Trading Fees` (ex: 0.0092 TKO)\n",
    "      - -> `Fee Currency` (ex: TKO)\n",
    "      - -> `Fee Amount` (ex: 0.0092)\n",
    "    - `Total` (ex: 0.0092 TKO)\n",
    "      - -> `Total Currency` (ex: TKO)\n",
    "      - -> `Total Amount` (ex: 0.0092)\n",
    "  - String to Int\n",
    "    - `Price`\n",
    "    - `Total Amount`\n",
    "    - `Fee Amount`\n",
    "2. Assign to correct column\n",
    "  - `Date`: Time\n",
    "  - `Received Quantity`: ((Price * Filled) - Trading Fees)\n",
    "  - `Received Currency`: Pair To\n",
    "  - `Sent Quantity`: Total Amount\n",
    "  - `Sent Currency`: Total Currency\n",
    "  - `Fee Amount`: Fee Amount\n",
    "  - `Fee Currency`: Fee Currency\n",
    "  - `Tag`: NaN"
   ]
  },
  {
   "cell_type": "markdown",
   "metadata": {},
   "source": [
    "## Data Cleaning"
   ]
  },
  {
   "cell_type": "markdown",
   "metadata": {},
   "source": [
    "### Convert time to datatime"
   ]
  },
  {
   "cell_type": "code",
   "execution_count": 8,
   "metadata": {},
   "outputs": [],
   "source": [
    "def fix_year(date):\n",
    "  invalid_year = 1900\n",
    "  this_year = datetime.datetime.now().year\n",
    "  if date.year == invalid_year:\n",
    "    date = date.replace(year = this_year)\n",
    "  return date\n"
   ]
  },
  {
   "cell_type": "code",
   "execution_count": 9,
   "metadata": {},
   "outputs": [],
   "source": [
    "df_tko['Time'] = pd.to_datetime(df_tko['Time'], format='%m-%d %H:%M:%S')\n",
    "df_tko['Time'] = df_tko['Time'].apply(fix_year)"
   ]
  },
  {
   "cell_type": "markdown",
   "metadata": {},
   "source": [
    "### Separate Pair\n",
    "Separate `Pair` (ex: TKO/BIDR)\n",
    "- -> `Pair From` (ex: BIDR)\n",
    "- -> `Pair To` (ex: TKO)"
   ]
  },
  {
   "cell_type": "code",
   "execution_count": 10,
   "metadata": {},
   "outputs": [],
   "source": [
    "df_tko[['Pair To', 'Pair From']] = df_tko['Pair'].str.split('/', 1, expand = True)"
   ]
  },
  {
   "cell_type": "markdown",
   "metadata": {},
   "source": [
    "### Separate token with its value\n",
    "- `Trading Fees` (ex: 0.0092 TKO)\n",
    "  - -> `Fee Currency` (ex: TKO)\n",
    "  - -> `Fee Amount` (ex: 0.0092)\n",
    "- `Total` (ex: 0.0092 TKO)\n",
    "  - -> `Total Currency` (ex: TKO)\n",
    "  - -> `Total Amount` (ex: 0.0092)"
   ]
  },
  {
   "cell_type": "code",
   "execution_count": 11,
   "metadata": {},
   "outputs": [],
   "source": [
    "df_tko[['Fee Amount', 'Fee Currency']] = df_tko['Trading Fees'].str.split(' ', 1, expand = True)\n",
    "df_tko[['Total Amount', 'Total Currency']] = df_tko['Total'].str.split(' ', 1, expand = True)"
   ]
  },
  {
   "cell_type": "markdown",
   "metadata": {},
   "source": [
    "### String to float\n",
    "- `Price`\n",
    "- `Total Amount`\n",
    "- `Fee Amount`"
   ]
  },
  {
   "cell_type": "code",
   "execution_count": 12,
   "metadata": {},
   "outputs": [],
   "source": [
    "def convert_string_to_float(series):\n",
    "  return series\\\n",
    "    .apply(lambda x: x.replace(',', ''))\\\n",
    "    .astype(float)"
   ]
  },
  {
   "cell_type": "code",
   "execution_count": 13,
   "metadata": {},
   "outputs": [],
   "source": [
    "df_tko['Price'] = convert_string_to_float(df_tko['Price'])\n",
    "df_tko['Total Amount'] = convert_string_to_float(df_tko['Total Amount'])\n",
    "df_tko['Fee Amount'] = convert_string_to_float(df_tko['Fee Amount'])"
   ]
  },
  {
   "cell_type": "markdown",
   "metadata": {},
   "source": [
    "## Assign to correct Columns\n",
    "- `Date`: Time\n",
    "- `Received Quantity`: ((Price * Filled) - Fee Amount)\n",
    "- `Received Currency`: Pair To\n",
    "- `Sent Quantity`: Total Amount\n",
    "- `Sent Currency`: Total Currency\n",
    "- `Fee Amount`: Fee Amount\n",
    "- `Fee Currency`: Fee Currency\n",
    "- `Tag`: NaN"
   ]
  },
  {
   "cell_type": "markdown",
   "metadata": {},
   "source": [
    "### DataFrame"
   ]
  },
  {
   "cell_type": "code",
   "execution_count": 15,
   "metadata": {},
   "outputs": [],
   "source": [
    "df_result = pd.DataFrame({\n",
    "  'Date': df_tko['Time'],\n",
    "  'Received Quantity': df_tko['Filled'],\n",
    "  'Received Currency': df_tko['Pair To'],\n",
    "  'Sent Quantity': df_tko['Total Amount'],\n",
    "  'Sent Currency': df_tko['Total Currency'],\n",
    "  'Fee Amount': df_tko['Fee Amount'],\n",
    "  'Fee Currency': df_tko['Fee Currency'],\n",
    "  'Tag': ''\n",
    "})"
   ]
  },
  {
   "cell_type": "code",
   "execution_count": 16,
   "metadata": {},
   "outputs": [],
   "source": [
    "df_result.set_index('Date', inplace=True) "
   ]
  },
  {
   "cell_type": "code",
   "execution_count": null,
   "metadata": {},
   "outputs": [
    {
     "data": {
      "text/html": [
       "<div>\n",
       "<style scoped>\n",
       "    .dataframe tbody tr th:only-of-type {\n",
       "        vertical-align: middle;\n",
       "    }\n",
       "\n",
       "    .dataframe tbody tr th {\n",
       "        vertical-align: top;\n",
       "    }\n",
       "\n",
       "    .dataframe thead th {\n",
       "        text-align: right;\n",
       "    }\n",
       "</style>\n",
       "<table border=\"1\" class=\"dataframe\">\n",
       "  <thead>\n",
       "    <tr style=\"text-align: right;\">\n",
       "      <th></th>\n",
       "      <th>Received Quantity</th>\n",
       "      <th>Received Currency</th>\n",
       "      <th>Sent Quantity</th>\n",
       "      <th>Sent Currency</th>\n",
       "      <th>Fee Amount</th>\n",
       "      <th>Fee Currency</th>\n",
       "      <th>Tag</th>\n",
       "    </tr>\n",
       "    <tr>\n",
       "      <th>Date</th>\n",
       "      <th></th>\n",
       "      <th></th>\n",
       "      <th></th>\n",
       "      <th></th>\n",
       "      <th></th>\n",
       "      <th></th>\n",
       "      <th></th>\n",
       "    </tr>\n",
       "  </thead>\n",
       "  <tbody>\n",
       "    <tr>\n",
       "      <th>2021-10-30 16:59:18</th>\n",
       "      <td>30.9690</td>\n",
       "      <td>COTI</td>\n",
       "      <td>17.67</td>\n",
       "      <td>USDT</td>\n",
       "      <td>0.0310</td>\n",
       "      <td>COTI</td>\n",
       "      <td></td>\n",
       "    </tr>\n",
       "    <tr>\n",
       "      <th>2021-10-30 12:55:51</th>\n",
       "      <td>17.9820</td>\n",
       "      <td>USDT</td>\n",
       "      <td>255168.00</td>\n",
       "      <td>BIDR</td>\n",
       "      <td>0.0180</td>\n",
       "      <td>USDT</td>\n",
       "      <td></td>\n",
       "    </tr>\n",
       "    <tr>\n",
       "      <th>2021-10-29 21:22:07</th>\n",
       "      <td>9.1908</td>\n",
       "      <td>TKO</td>\n",
       "      <td>248032.00</td>\n",
       "      <td>BIDR</td>\n",
       "      <td>0.0092</td>\n",
       "      <td>TKO</td>\n",
       "      <td></td>\n",
       "    </tr>\n",
       "    <tr>\n",
       "      <th>2021-10-29 11:04:24</th>\n",
       "      <td>11.7882</td>\n",
       "      <td>FTM</td>\n",
       "      <td>498078.00</td>\n",
       "      <td>BIDR</td>\n",
       "      <td>0.0118</td>\n",
       "      <td>FTM</td>\n",
       "      <td></td>\n",
       "    </tr>\n",
       "    <tr>\n",
       "      <th>2021-10-28 16:08:14</th>\n",
       "      <td>4.2957</td>\n",
       "      <td>FTM</td>\n",
       "      <td>202104.30</td>\n",
       "      <td>BIDR</td>\n",
       "      <td>0.0043</td>\n",
       "      <td>FTM</td>\n",
       "      <td></td>\n",
       "    </tr>\n",
       "  </tbody>\n",
       "</table>\n",
       "</div>"
      ],
      "text/plain": [
       "                     Received Quantity Received Currency  Sent Quantity  \\\n",
       "Date                                                                      \n",
       "2021-10-30 16:59:18            30.9690              COTI          17.67   \n",
       "2021-10-30 12:55:51            17.9820              USDT      255168.00   \n",
       "2021-10-29 21:22:07             9.1908               TKO      248032.00   \n",
       "2021-10-29 11:04:24            11.7882               FTM      498078.00   \n",
       "2021-10-28 16:08:14             4.2957               FTM      202104.30   \n",
       "\n",
       "                    Sent Currency  Fee Amount Fee Currency Tag  \n",
       "Date                                                            \n",
       "2021-10-30 16:59:18          USDT      0.0310         COTI      \n",
       "2021-10-30 12:55:51          BIDR      0.0180         USDT      \n",
       "2021-10-29 21:22:07          BIDR      0.0092          TKO      \n",
       "2021-10-29 11:04:24          BIDR      0.0118          FTM      \n",
       "2021-10-28 16:08:14          BIDR      0.0043          FTM      "
      ]
     },
     "execution_count": 29,
     "metadata": {},
     "output_type": "execute_result"
    }
   ],
   "source": [
    "df_result.head()"
   ]
  },
  {
   "cell_type": "markdown",
   "metadata": {},
   "source": [
    "## Export Data"
   ]
  },
  {
   "cell_type": "code",
   "execution_count": null,
   "metadata": {},
   "outputs": [],
   "source": [
    "filename = 'tokocrypto_cointracker_{datetime}.csv'.format(datetime = datetime.datetime.now())\n",
    "directory = './data/{filename}'.format(filename = filename)\n",
    "df_result.to_csv(directory, sep=',', encoding='utf-8')"
   ]
  }
 ],
 "metadata": {
  "interpreter": {
   "hash": "147b588883bac62c1e149ca914c463ebfdd1df65f0036ca9ab0c43a799035622"
  },
  "kernelspec": {
   "display_name": "Python 3.8.2 64-bit ('algoritma': conda)",
   "name": "python3"
  },
  "language_info": {
   "codemirror_mode": {
    "name": "ipython",
    "version": 3
   },
   "file_extension": ".py",
   "mimetype": "text/x-python",
   "name": "python",
   "nbconvert_exporter": "python",
   "pygments_lexer": "ipython3",
   "version": "3.8.2"
  }
 },
 "nbformat": 4,
 "nbformat_minor": 4
}
